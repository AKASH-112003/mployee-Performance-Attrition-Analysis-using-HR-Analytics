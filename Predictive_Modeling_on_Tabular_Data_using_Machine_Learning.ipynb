{
  "nbformat": 4,
  "nbformat_minor": 0,
  "metadata": {
    "colab": {
      "provenance": [],
      "authorship_tag": "ABX9TyOEeOroESNJe51drFVyLIow"
    },
    "kernelspec": {
      "name": "python3",
      "display_name": "Python 3"
    },
    "language_info": {
      "name": "python"
    }
  },
  "cells": [
    {
      "cell_type": "markdown",
      "source": [
        "# Predictive Modeling on Tabular Data using Machine Learning"
      ],
      "metadata": {
        "id": "QuFBJEpHyQJP"
      }
    },
    {
      "cell_type": "code",
      "execution_count": null,
      "metadata": {
        "colab": {
          "base_uri": "https://localhost:8080/"
        },
        "id": "IksEEZ75nFCL",
        "outputId": "2552c841-d148-44a1-97c8-7181e2ca3035"
      },
      "outputs": [
        {
          "output_type": "stream",
          "name": "stdout",
          "text": [
            "Extracted 739 frames from /content/SampleVideo_1280x720_5mb.mp4\n"
          ]
        }
      ],
      "source": [
        "import cv2\n",
        "import os\n",
        "\n",
        "def extract_frames(video_path, output_folder):\n",
        "    # Create output directory if it doesn't exist\n",
        "    if not os.path.exists(output_folder):\n",
        "        os.makedirs(output_folder)\n",
        "\n",
        "    # Open the video file\n",
        "    cap = cv2.VideoCapture(video_path)\n",
        "    frame_count = 0\n",
        "\n",
        "    while True:\n",
        "        ret, frame = cap.read()\n",
        "        if not ret:\n",
        "            break\n",
        "\n",
        "        # Save each frame as a JPEG file\n",
        "        frame_filename = os.path.join(output_folder, f\"frame_{frame_count:04d}.jpg\")\n",
        "        cv2.imwrite(frame_filename, frame)\n",
        "        frame_count += 1\n",
        "\n",
        "    # Release the video capture object\n",
        "    cap.release()\n",
        "    print(f\"Extracted {frame_count} frames from {video_path}\")\n",
        "\n",
        "\n",
        "# Set the video path and output folder\n",
        "video_path = \"/content/SampleVideo_1280x720_5mb.mp4\"  # Use the provided video path directly\n",
        "output_folder = \"/content/extracted_frames\"  # Set a default output folder\n",
        "\n",
        "# Extract frames from the video\n",
        "extract_frames(video_path, output_folder)"
      ]
    }
  ]
}